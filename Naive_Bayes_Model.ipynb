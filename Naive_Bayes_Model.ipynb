{
 "cells": [
  {
   "cell_type": "code",
   "execution_count": 1,
   "metadata": {
    "collapsed": true
   },
   "outputs": [],
   "source": [
    "## Import Modules \n",
    "import pandas as pd\n",
    "import numpy as np\n",
    "import matplotlib.pyplot as plt\n",
    "import seaborn as sns\n",
    "from textblob import TextBlob\n",
    "import math\n",
    "import re\n",
    "from sklearn.feature_extraction.text import CountVectorizer"
   ]
  },
  {
   "cell_type": "code",
   "execution_count": 11,
   "metadata": {},
   "outputs": [
    {
     "data": {
      "text/plain": [
       "(257, 10)"
      ]
     },
     "execution_count": 11,
     "metadata": {},
     "output_type": "execute_result"
    }
   ],
   "source": [
    "## Read in dataset and select only positive or negative tweets denoted by Ran \n",
    "df = pd.read_csv('final.csv',encoding=\"ISO-8859-1\")\n",
    "\n",
    "df = df[df.Sentiment != 0]\n",
    "df.shape"
   ]
  },
  {
   "cell_type": "code",
   "execution_count": 12,
   "metadata": {
    "collapsed": true
   },
   "outputs": [],
   "source": [
    "## Clean the tweet message\n",
    "def clean_tweet(tweet):\n",
    "    '''\n",
    "    Utility function to clean the text in a tweet by removing \n",
    "    links and special characters using regex.\n",
    "    '''\n",
    "    return ' '.join(re.sub(\"(@[A-Za-z0-9]+)|([^0-9A-Za-z \\t])|(\\w+:\\/\\/\\S+)\", \" \", tweet).split())\n",
    "# Update the text by the cleaned tweet\n",
    "for index, row in df.iterrows():\n",
    "    #print(row.text)\n",
    "    row.text = TextBlob(clean_tweet(row.text))"
   ]
  },
  {
   "cell_type": "code",
   "execution_count": 13,
   "metadata": {},
   "outputs": [],
   "source": [
    "## Split dataset as training and test data with ratio 0.2 (80% training and 20% test)\n",
    "from sklearn.model_selection import train_test_split\n",
    "X = df.text\n",
    "y = df.Sentiment\n",
    "X_train, X_test, y_train, y_test = train_test_split(X, y, test_size=0.2)"
   ]
  },
  {
   "cell_type": "code",
   "execution_count": 14,
   "metadata": {},
   "outputs": [
    {
     "data": {
      "text/plain": [
       "0.97247706422018354"
      ]
     },
     "execution_count": 14,
     "metadata": {},
     "output_type": "execute_result"
    }
   ],
   "source": [
    "## Covert test as one hot vector \n",
    "## \"max_features = 1000\" is a tunable parameter, we can either increase it or decrease it considering the size of the dataset,\n",
    "## typically increase it for large data and decrease it for small data\n",
    "from sklearn.feature_extraction.text import CountVectorizer\n",
    "vect = CountVectorizer(max_features=1000, binary=True)\n",
    "X_train_vect = vect.fit_transform(X_train)\n",
    "## SMOTE function is to balance dataset, for example if there is too many positive tweets than negative tweets, SMOTE helps you oversample the \n",
    "## negative tweets in order to keep the numbers of the two types in the same level (or equal) \n",
    "from imblearn.over_sampling import SMOTE\n",
    "sm = SMOTE()\n",
    "X_train_res, y_train_res = sm.fit_sample(X_train_vect, y_train)\n",
    "## Train naive bayes model on the oversampled training dataset\n",
    "from sklearn.naive_bayes import MultinomialNB\n",
    "nb = MultinomialNB()\n",
    "nb.fit(X_train_res, y_train_res)\n",
    "nb.score(X_train_res, y_train_res)"
   ]
  },
  {
   "cell_type": "code",
   "execution_count": 15,
   "metadata": {},
   "outputs": [
    {
     "data": {
      "text/plain": [
       "array([ 1, -1,  1, -1,  1,  1, -1,  1, -1,  1,  1,  1,  1, -1,  1,  1, -1,\n",
       "        1, -1,  1, -1,  1, -1,  1,  1,  1,  1, -1,  1,  1,  1,  1, -1,  1,\n",
       "       -1, -1, -1, -1,  1,  1, -1,  1, -1, -1, -1,  1, -1,  1, -1, -1, -1,\n",
       "       -1])"
      ]
     },
     "execution_count": 15,
     "metadata": {},
     "output_type": "execute_result"
    }
   ],
   "source": [
    "## Fit model on the test data\n",
    "X_test_vect = vect.transform(X_test)\n",
    "y_pred = nb.predict(X_test_vect)\n",
    "y_pred"
   ]
  },
  {
   "cell_type": "code",
   "execution_count": 16,
   "metadata": {},
   "outputs": [
    {
     "name": "stdout",
     "output_type": "stream",
     "text": [
      "Accuracy: 51.92%\n",
      "\n",
      "COnfusion Matrix:\n",
      " [[10 11]\n",
      " [14 17]]\n"
     ]
    }
   ],
   "source": [
    "## Accuracy and confusion matrix on test dataset \n",
    "from sklearn.metrics import accuracy_score, f1_score, confusion_matrix\n",
    "print(\"Accuracy: {:.2f}%\".format(accuracy_score(y_test, y_pred) * 100))\n",
    "print(\"\\nCOnfusion Matrix:\\n\", confusion_matrix(y_test, y_pred))"
   ]
  },
  {
   "cell_type": "code",
   "execution_count": 17,
   "metadata": {},
   "outputs": [
    {
     "data": {
      "text/html": [
       "<div>\n",
       "<style>\n",
       "    .dataframe thead tr:only-child th {\n",
       "        text-align: right;\n",
       "    }\n",
       "\n",
       "    .dataframe thead th {\n",
       "        text-align: left;\n",
       "    }\n",
       "\n",
       "    .dataframe tbody tr th {\n",
       "        vertical-align: top;\n",
       "    }\n",
       "</style>\n",
       "<table border=\"1\" class=\"dataframe\">\n",
       "  <thead>\n",
       "    <tr style=\"text-align: right;\">\n",
       "      <th></th>\n",
       "      <th>TweetID</th>\n",
       "      <th>replyToTweet</th>\n",
       "      <th>fromUser</th>\n",
       "      <th>toUser</th>\n",
       "      <th>mentions</th>\n",
       "      <th>text</th>\n",
       "      <th>createdAt</th>\n",
       "      <th>latitude</th>\n",
       "      <th>longitude</th>\n",
       "      <th>Sentiment</th>\n",
       "    </tr>\n",
       "  </thead>\n",
       "  <tbody>\n",
       "    <tr>\n",
       "      <th>0</th>\n",
       "      <td>2.630000e+17</td>\n",
       "      <td>NaN</td>\n",
       "      <td>247102965</td>\n",
       "      <td>NaN</td>\n",
       "      <td>NaN</td>\n",
       "      <td>Sandy can you come in hot #please #noschool</td>\n",
       "      <td>Sun Oct 28 19:08:57 +0000 2012</td>\n",
       "      <td>39.346585</td>\n",
       "      <td>-76.623635</td>\n",
       "      <td>1</td>\n",
       "    </tr>\n",
       "    <tr>\n",
       "      <th>1</th>\n",
       "      <td>2.630000e+17</td>\n",
       "      <td>NaN</td>\n",
       "      <td>838309267</td>\n",
       "      <td>NaN</td>\n",
       "      <td>NaN</td>\n",
       "      <td>Wegmans before Hurricane Sandy's storm effects...</td>\n",
       "      <td>Sun Oct 28 16:26:21 +0000 2012</td>\n",
       "      <td>38.851924</td>\n",
       "      <td>-77.347214</td>\n",
       "      <td>1</td>\n",
       "    </tr>\n",
       "    <tr>\n",
       "      <th>2</th>\n",
       "      <td>2.630000e+17</td>\n",
       "      <td>NaN</td>\n",
       "      <td>756132696</td>\n",
       "      <td>NaN</td>\n",
       "      <td>NaN</td>\n",
       "      <td>Thank you #hurricanesandy for making me walk t...</td>\n",
       "      <td>Mon Oct 29 13:54:52 +0000 2012</td>\n",
       "      <td>42.111231</td>\n",
       "      <td>-77.944133</td>\n",
       "      <td>0</td>\n",
       "    </tr>\n",
       "    <tr>\n",
       "      <th>3</th>\n",
       "      <td>2.630000e+17</td>\n",
       "      <td>NaN</td>\n",
       "      <td>243472700</td>\n",
       "      <td>NaN</td>\n",
       "      <td>NaN</td>\n",
       "      <td>Power has been out now for three hours in Hazl...</td>\n",
       "      <td>Mon Oct 29 21:49:53 +0000 2012</td>\n",
       "      <td>40.432716</td>\n",
       "      <td>-74.170199</td>\n",
       "      <td>0</td>\n",
       "    </tr>\n",
       "    <tr>\n",
       "      <th>4</th>\n",
       "      <td>2.630000e+17</td>\n",
       "      <td>NaN</td>\n",
       "      <td>19210782</td>\n",
       "      <td>NaN</td>\n",
       "      <td>NaN</td>\n",
       "      <td>I'm at Frankenstorm Apocalypse - Hurricane San...</td>\n",
       "      <td>Mon Oct 29 06:31:25 +0000 2012</td>\n",
       "      <td>40.784701</td>\n",
       "      <td>-73.786926</td>\n",
       "      <td>0</td>\n",
       "    </tr>\n",
       "  </tbody>\n",
       "</table>\n",
       "</div>"
      ],
      "text/plain": [
       "        TweetID  replyToTweet   fromUser  toUser  mentions  \\\n",
       "0  2.630000e+17           NaN  247102965     NaN       NaN   \n",
       "1  2.630000e+17           NaN  838309267     NaN       NaN   \n",
       "2  2.630000e+17           NaN  756132696     NaN       NaN   \n",
       "3  2.630000e+17           NaN  243472700     NaN       NaN   \n",
       "4  2.630000e+17           NaN   19210782     NaN       NaN   \n",
       "\n",
       "                                                text  \\\n",
       "0        Sandy can you come in hot #please #noschool   \n",
       "1  Wegmans before Hurricane Sandy's storm effects...   \n",
       "2  Thank you #hurricanesandy for making me walk t...   \n",
       "3  Power has been out now for three hours in Hazl...   \n",
       "4  I'm at Frankenstorm Apocalypse - Hurricane San...   \n",
       "\n",
       "                        createdAt   latitude  longitude  Sentiment  \n",
       "0  Sun Oct 28 19:08:57 +0000 2012  39.346585 -76.623635          1  \n",
       "1  Sun Oct 28 16:26:21 +0000 2012  38.851924 -77.347214          1  \n",
       "2  Mon Oct 29 13:54:52 +0000 2012  42.111231 -77.944133          0  \n",
       "3  Mon Oct 29 21:49:53 +0000 2012  40.432716 -74.170199          0  \n",
       "4  Mon Oct 29 06:31:25 +0000 2012  40.784701 -73.786926          0  "
      ]
     },
     "execution_count": 17,
     "metadata": {},
     "output_type": "execute_result"
    }
   ],
   "source": [
    "df = pd.read_csv('final.csv',encoding=\"ISO-8859-1\")\n",
    "df.head()"
   ]
  },
  {
   "cell_type": "code",
   "execution_count": null,
   "metadata": {
    "collapsed": true
   },
   "outputs": [],
   "source": []
  }
 ],
 "metadata": {
  "kernelspec": {
   "display_name": "Python 2",
   "language": "python",
   "name": "python2"
  },
  "language_info": {
   "codemirror_mode": {
    "name": "ipython",
    "version": 3
   },
   "file_extension": ".py",
   "mimetype": "text/x-python",
   "name": "python",
   "nbconvert_exporter": "python",
   "pygments_lexer": "ipython3",
   "version": "3.6.3"
  }
 },
 "nbformat": 4,
 "nbformat_minor": 2
}
